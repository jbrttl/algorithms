{
 "cells": [
  {
   "cell_type": "code",
   "execution_count": 189,
   "id": "179b7378-495e-4605-bdbc-0611f736f283",
   "metadata": {
    "tags": []
   },
   "outputs": [],
   "source": [
    "import requests\n",
    "import yfinance as yf\n",
    "import pandas as pd\n",
    "import time\n",
    "import tqdm\n",
    "from pandas_datareader import data\n",
    "import os\n",
    "import warnings\n",
    "warnings.filterwarnings('ignore')"
   ]
  },
  {
   "cell_type": "markdown",
   "id": "f1911f09-7ec6-4e02-89a8-cf0088f19661",
   "metadata": {},
   "source": [
    "# Get book value date"
   ]
  },
  {
   "cell_type": "code",
   "execution_count": 75,
   "id": "a6522d76-6af3-4d51-8907-e2d9028809eb",
   "metadata": {
    "tags": []
   },
   "outputs": [],
   "source": [
    "url = 'https://www.slickcharts.com/sp500/'\n",
    "\n",
    "header = {\n",
    "  \"User-Agent\": \"Mozilla/5.0 (X11; Linux x86_64) AppleWebKit/537.36 (KHTML, like Gecko) Chrome/50.0.2661.75 Safari/537.36\",\n",
    "  \"X-Requested-With\": \"XMLHttpRequest\"\n",
    "}\n",
    "\n",
    "r = requests.get(url, headers=header)\n",
    "\n",
    "dfs = pd.read_html(r.text)"
   ]
  },
  {
   "cell_type": "code",
   "execution_count": 128,
   "id": "4acf47f6-e0b1-46c8-9891-a8da86acfca1",
   "metadata": {
    "tags": []
   },
   "outputs": [],
   "source": [
    "def get_book_value(dfs):\n",
    "    empty_ticks = {'No data':[],'No equity':[]}\n",
    "    output_dfs = []\n",
    "\n",
    "    for symbol in tqdm.tqdm(dfs[0]['Symbol'].values):\n",
    "        ticker = yf.Ticker(symbol)\n",
    "        bal = ticker.quarterly_balance_sheet\n",
    "\n",
    "        if len(bal.index) == 0:\n",
    "            empty_ticks['No data'].append(symbol)\n",
    "        else:    \n",
    "            bal.columns = [str(col.year) + '-' + str(col.quarter) for col in bal.columns]\n",
    "            equity = bal[bal.index.isin(['Common Stock','Total Stockholder Equity','Equity'])]\n",
    "            if len(equity.index) == 0:\n",
    "                empty_ticks['No equity'].append(symbol)\n",
    "            else:\n",
    "                equity['Ticker'] = symbol\n",
    "                output_dfs.append(equity)\n",
    "                time.sleep(3)\n",
    "    return outpout_dfs, empty_ticks"
   ]
  },
  {
   "cell_type": "code",
   "execution_count": 129,
   "id": "2ba78dd7-f518-40c9-bec6-a931f088ca2f",
   "metadata": {},
   "outputs": [],
   "source": [
    "for df in output_dfs:\n",
    "    if os.path.isfile('book_values.csv'):\n",
    "        HEADER=False\n",
    "    else:\n",
    "        HEADER=True\n",
    "    df.to_csv('book_values.csv',mode='a',header=HEADER)"
   ]
  },
  {
   "cell_type": "code",
   "execution_count": 133,
   "id": "d3a7a9d5-2b20-4324-9307-3d00a072e55b",
   "metadata": {},
   "outputs": [],
   "source": [
    "if os.path.isfile('book_values.csv'):\n",
    "    book_df = pd.read_csv('book_values.csv')\n",
    "else:  \n",
    "    outpout_dfs, empty_ticks = get_book_value(dfs)\n",
    "    for df in output_dfs:\n",
    "        if os.path.isfile('book_values.csv'):\n",
    "            HEADER=False\n",
    "        else:\n",
    "            HEADER=True\n",
    "        df.to_csv('book_values.csv',mode='a',header=HEADER)\n",
    "    book_df = pd.read_csv('book_values.csv')"
   ]
  },
  {
   "cell_type": "markdown",
   "id": "b4c8214f-0d23-4e7d-b469-2644b01f7a64",
   "metadata": {},
   "source": [
    "# Get market cap"
   ]
  },
  {
   "cell_type": "code",
   "execution_count": null,
   "id": "ba0d4029-ac50-47e3-968d-85cc73d76e1b",
   "metadata": {},
   "outputs": [],
   "source": [
    "tickers = dfs[0]['Symbol'].values"
   ]
  },
  {
   "cell_type": "code",
   "execution_count": 135,
   "id": "0fbf47bc-9bf2-48e9-9127-077df74bca76",
   "metadata": {},
   "outputs": [],
   "source": [
    "def get_market_cap(tickers):\n",
    "    caps = {}\n",
    "    notfound = {}\n",
    "    for tick in tqdm.tqdm(tickers):\n",
    "        try:\n",
    "            cap = data.get_quote_yahoo(tick)['marketCap']\n",
    "            caps[tick] = cap[0]\n",
    "        except KeyError as e:\n",
    "            notfound[tick] = e\n",
    "            pass\n",
    "    return caps, notfound"
   ]
  },
  {
   "cell_type": "code",
   "execution_count": 146,
   "id": "b54e41a7-dd15-4f5a-aecc-a57ad61ba3f1",
   "metadata": {},
   "outputs": [],
   "source": [
    "if os.path.isfile('book_values.csv'):\n",
    "    caps_df = pd.read_csv('cap_values.csv').set_index('Unnamed: 0')\n",
    "else:  \n",
    "    caps, empty_ticks = get_book_value(dfs)\n",
    "    caps_df = pd.DataFrame(index=caps.keys(), data=caps.values(), columns={'cap'}).set_index('Unnamed: 0')"
   ]
  },
  {
   "cell_type": "markdown",
   "id": "82245acd-c007-44d8-b7aa-be0202e0f4fc",
   "metadata": {},
   "source": [
    "# Calculate Tobin Q"
   ]
  },
  {
   "cell_type": "code",
   "execution_count": 149,
   "id": "ad79b0aa-283b-407e-82d0-4706af5b65f9",
   "metadata": {},
   "outputs": [],
   "source": [
    "book_df = book_df.set_index('Ticker').rename(columns={'Unnamed: 0':'Asset type'})"
   ]
  },
  {
   "cell_type": "code",
   "execution_count": 147,
   "id": "8f0deaea-8c7d-4665-a6c8-dc712678409a",
   "metadata": {},
   "outputs": [
    {
     "data": {
      "text/html": [
       "<div>\n",
       "<style scoped>\n",
       "    .dataframe tbody tr th:only-of-type {\n",
       "        vertical-align: middle;\n",
       "    }\n",
       "\n",
       "    .dataframe tbody tr th {\n",
       "        vertical-align: top;\n",
       "    }\n",
       "\n",
       "    .dataframe thead th {\n",
       "        text-align: right;\n",
       "    }\n",
       "</style>\n",
       "<table border=\"1\" class=\"dataframe\">\n",
       "  <thead>\n",
       "    <tr style=\"text-align: right;\">\n",
       "      <th></th>\n",
       "      <th>cap</th>\n",
       "    </tr>\n",
       "    <tr>\n",
       "      <th>Ticker</th>\n",
       "      <th></th>\n",
       "    </tr>\n",
       "  </thead>\n",
       "  <tbody>\n",
       "    <tr>\n",
       "      <th>AAPL</th>\n",
       "      <td>2794502225920</td>\n",
       "    </tr>\n",
       "    <tr>\n",
       "      <th>MSFT</th>\n",
       "      <td>2314409869312</td>\n",
       "    </tr>\n",
       "    <tr>\n",
       "      <th>AMZN</th>\n",
       "      <td>1460363067392</td>\n",
       "    </tr>\n",
       "    <tr>\n",
       "      <th>GOOGL</th>\n",
       "      <td>1770370629632</td>\n",
       "    </tr>\n",
       "    <tr>\n",
       "      <th>GOOG</th>\n",
       "      <td>1769346170880</td>\n",
       "    </tr>\n",
       "    <tr>\n",
       "      <th>...</th>\n",
       "      <td>...</td>\n",
       "    </tr>\n",
       "    <tr>\n",
       "      <th>DISCA</th>\n",
       "      <td>13502291968</td>\n",
       "    </tr>\n",
       "    <tr>\n",
       "      <th>GPS</th>\n",
       "      <td>6635371520</td>\n",
       "    </tr>\n",
       "    <tr>\n",
       "      <th>UAA</th>\n",
       "      <td>7990502912</td>\n",
       "    </tr>\n",
       "    <tr>\n",
       "      <th>UA</th>\n",
       "      <td>8036860416</td>\n",
       "    </tr>\n",
       "    <tr>\n",
       "      <th>NWS</th>\n",
       "      <td>12818163712</td>\n",
       "    </tr>\n",
       "  </tbody>\n",
       "</table>\n",
       "<p>499 rows × 1 columns</p>\n",
       "</div>"
      ],
      "text/plain": [
       "                  cap\n",
       "Ticker               \n",
       "AAPL    2794502225920\n",
       "MSFT    2314409869312\n",
       "AMZN    1460363067392\n",
       "GOOGL   1770370629632\n",
       "GOOG    1769346170880\n",
       "...               ...\n",
       "DISCA     13502291968\n",
       "GPS        6635371520\n",
       "UAA        7990502912\n",
       "UA         8036860416\n",
       "NWS       12818163712\n",
       "\n",
       "[499 rows x 1 columns]"
      ]
     },
     "execution_count": 147,
     "metadata": {},
     "output_type": "execute_result"
    }
   ],
   "source": [
    "caps_df.index.name = 'Ticker'\n",
    "caps_df"
   ]
  },
  {
   "cell_type": "code",
   "execution_count": 154,
   "id": "c136212e-0e9e-4032-9a2b-09cc650dca08",
   "metadata": {},
   "outputs": [],
   "source": [
    "tobin = book_df.join(caps_df,on='Ticker')"
   ]
  },
  {
   "cell_type": "code",
   "execution_count": 163,
   "id": "3bc773ee-8d62-49a0-9e6c-bd93a570454b",
   "metadata": {},
   "outputs": [],
   "source": [
    "tobin['TobinQ'] = tobin['cap']/tobin['2021-3']"
   ]
  },
  {
   "cell_type": "code",
   "execution_count": 172,
   "id": "d790877f-fa35-4ae0-8a05-590abbb4b124",
   "metadata": {},
   "outputs": [],
   "source": [
    "tobin_stock = tobin.loc[tobin['Asset type']=='Common Stock']\n",
    "tobin_eq = tobin.loc[tobin['Asset type']=='Total Stockholder Equity']"
   ]
  },
  {
   "cell_type": "code",
   "execution_count": 173,
   "id": "8713e7e8-75d9-4a45-953d-48b8c984379d",
   "metadata": {},
   "outputs": [
    {
     "data": {
      "text/html": [
       "<div>\n",
       "<style scoped>\n",
       "    .dataframe tbody tr th:only-of-type {\n",
       "        vertical-align: middle;\n",
       "    }\n",
       "\n",
       "    .dataframe tbody tr th {\n",
       "        vertical-align: top;\n",
       "    }\n",
       "\n",
       "    .dataframe thead th {\n",
       "        text-align: right;\n",
       "    }\n",
       "</style>\n",
       "<table border=\"1\" class=\"dataframe\">\n",
       "  <thead>\n",
       "    <tr style=\"text-align: right;\">\n",
       "      <th></th>\n",
       "      <th>Asset type</th>\n",
       "      <th>2021-3</th>\n",
       "      <th>2021-2</th>\n",
       "      <th>2021-1</th>\n",
       "      <th>2020-4</th>\n",
       "      <th>cap</th>\n",
       "      <th>TobinQ</th>\n",
       "    </tr>\n",
       "    <tr>\n",
       "      <th>Ticker</th>\n",
       "      <th></th>\n",
       "      <th></th>\n",
       "      <th></th>\n",
       "      <th></th>\n",
       "      <th></th>\n",
       "      <th></th>\n",
       "      <th></th>\n",
       "    </tr>\n",
       "  </thead>\n",
       "  <tbody>\n",
       "    <tr>\n",
       "      <th>AAPL</th>\n",
       "      <td>Total Stockholder Equity</td>\n",
       "      <td>6.309000e+10</td>\n",
       "      <td>6.428000e+10</td>\n",
       "      <td>6.917800e+10</td>\n",
       "      <td>6.622400e+10</td>\n",
       "      <td>2.794502e+12</td>\n",
       "      <td>44.293901</td>\n",
       "    </tr>\n",
       "    <tr>\n",
       "      <th>AAPL</th>\n",
       "      <td>Common Stock</td>\n",
       "      <td>5.736500e+10</td>\n",
       "      <td>5.498900e+10</td>\n",
       "      <td>5.420300e+10</td>\n",
       "      <td>5.174400e+10</td>\n",
       "      <td>2.794502e+12</td>\n",
       "      <td>48.714412</td>\n",
       "    </tr>\n",
       "    <tr>\n",
       "      <th>MSFT</th>\n",
       "      <td>Total Stockholder Equity</td>\n",
       "      <td>1.519780e+11</td>\n",
       "      <td>1.419880e+11</td>\n",
       "      <td>1.345050e+11</td>\n",
       "      <td>1.302360e+11</td>\n",
       "      <td>2.314410e+12</td>\n",
       "      <td>15.228585</td>\n",
       "    </tr>\n",
       "    <tr>\n",
       "      <th>MSFT</th>\n",
       "      <td>Common Stock</td>\n",
       "      <td>8.375100e+10</td>\n",
       "      <td>8.311100e+10</td>\n",
       "      <td>8.230800e+10</td>\n",
       "      <td>8.189600e+10</td>\n",
       "      <td>2.314410e+12</td>\n",
       "      <td>27.634415</td>\n",
       "    </tr>\n",
       "    <tr>\n",
       "      <th>AMZN</th>\n",
       "      <td>Total Stockholder Equity</td>\n",
       "      <td>1.205640e+11</td>\n",
       "      <td>1.148030e+11</td>\n",
       "      <td>1.033200e+11</td>\n",
       "      <td>9.340400e+10</td>\n",
       "      <td>1.460363e+12</td>\n",
       "      <td>12.112762</td>\n",
       "    </tr>\n",
       "    <tr>\n",
       "      <th>...</th>\n",
       "      <td>...</td>\n",
       "      <td>...</td>\n",
       "      <td>...</td>\n",
       "      <td>...</td>\n",
       "      <td>...</td>\n",
       "      <td>...</td>\n",
       "      <td>...</td>\n",
       "    </tr>\n",
       "    <tr>\n",
       "      <th>UAA</th>\n",
       "      <td>Common Stock</td>\n",
       "      <td>1.580000e+05</td>\n",
       "      <td>1.550000e+05</td>\n",
       "      <td>1.510000e+05</td>\n",
       "      <td>1.500000e+05</td>\n",
       "      <td>7.990503e+09</td>\n",
       "      <td>50572.803241</td>\n",
       "    </tr>\n",
       "    <tr>\n",
       "      <th>UA</th>\n",
       "      <td>Total Stockholder Equity</td>\n",
       "      <td>1.977749e+09</td>\n",
       "      <td>1.846710e+09</td>\n",
       "      <td>1.770199e+09</td>\n",
       "      <td>1.675993e+09</td>\n",
       "      <td>8.036860e+09</td>\n",
       "      <td>4.063640</td>\n",
       "    </tr>\n",
       "    <tr>\n",
       "      <th>UA</th>\n",
       "      <td>Common Stock</td>\n",
       "      <td>1.580000e+05</td>\n",
       "      <td>1.550000e+05</td>\n",
       "      <td>1.510000e+05</td>\n",
       "      <td>1.500000e+05</td>\n",
       "      <td>8.036860e+09</td>\n",
       "      <td>50866.205165</td>\n",
       "    </tr>\n",
       "    <tr>\n",
       "      <th>NWS</th>\n",
       "      <td>Total Stockholder Equity</td>\n",
       "      <td>8.210000e+09</td>\n",
       "      <td>8.211000e+09</td>\n",
       "      <td>8.188000e+09</td>\n",
       "      <td>8.131000e+09</td>\n",
       "      <td>1.281816e+10</td>\n",
       "      <td>1.561287</td>\n",
       "    </tr>\n",
       "    <tr>\n",
       "      <th>NWS</th>\n",
       "      <td>Common Stock</td>\n",
       "      <td>6.000000e+06</td>\n",
       "      <td>6.000000e+06</td>\n",
       "      <td>6.000000e+06</td>\n",
       "      <td>6.000000e+06</td>\n",
       "      <td>1.281816e+10</td>\n",
       "      <td>2136.360619</td>\n",
       "    </tr>\n",
       "  </tbody>\n",
       "</table>\n",
       "<p>972 rows × 7 columns</p>\n",
       "</div>"
      ],
      "text/plain": [
       "                      Asset type        2021-3        2021-2        2021-1  \\\n",
       "Ticker                                                                       \n",
       "AAPL    Total Stockholder Equity  6.309000e+10  6.428000e+10  6.917800e+10   \n",
       "AAPL                Common Stock  5.736500e+10  5.498900e+10  5.420300e+10   \n",
       "MSFT    Total Stockholder Equity  1.519780e+11  1.419880e+11  1.345050e+11   \n",
       "MSFT                Common Stock  8.375100e+10  8.311100e+10  8.230800e+10   \n",
       "AMZN    Total Stockholder Equity  1.205640e+11  1.148030e+11  1.033200e+11   \n",
       "...                          ...           ...           ...           ...   \n",
       "UAA                 Common Stock  1.580000e+05  1.550000e+05  1.510000e+05   \n",
       "UA      Total Stockholder Equity  1.977749e+09  1.846710e+09  1.770199e+09   \n",
       "UA                  Common Stock  1.580000e+05  1.550000e+05  1.510000e+05   \n",
       "NWS     Total Stockholder Equity  8.210000e+09  8.211000e+09  8.188000e+09   \n",
       "NWS                 Common Stock  6.000000e+06  6.000000e+06  6.000000e+06   \n",
       "\n",
       "              2020-4           cap        TobinQ  \n",
       "Ticker                                            \n",
       "AAPL    6.622400e+10  2.794502e+12     44.293901  \n",
       "AAPL    5.174400e+10  2.794502e+12     48.714412  \n",
       "MSFT    1.302360e+11  2.314410e+12     15.228585  \n",
       "MSFT    8.189600e+10  2.314410e+12     27.634415  \n",
       "AMZN    9.340400e+10  1.460363e+12     12.112762  \n",
       "...              ...           ...           ...  \n",
       "UAA     1.500000e+05  7.990503e+09  50572.803241  \n",
       "UA      1.675993e+09  8.036860e+09      4.063640  \n",
       "UA      1.500000e+05  8.036860e+09  50866.205165  \n",
       "NWS     8.131000e+09  1.281816e+10      1.561287  \n",
       "NWS     6.000000e+06  1.281816e+10   2136.360619  \n",
       "\n",
       "[972 rows x 7 columns]"
      ]
     },
     "execution_count": 173,
     "metadata": {},
     "output_type": "execute_result"
    }
   ],
   "source": [
    "tobin"
   ]
  },
  {
   "cell_type": "code",
   "execution_count": 185,
   "id": "6608623c-aaaf-49e7-a3d2-545762d6b2ea",
   "metadata": {},
   "outputs": [
    {
     "data": {
      "text/plain": [
       "<AxesSubplot:xlabel='Ticker'>"
      ]
     },
     "execution_count": 185,
     "metadata": {},
     "output_type": "execute_result"
    },
    {
     "data": {
      "image/png": "[encoded data removed]",
      "text/plain": [
       "<Figure size 1296x720 with 1 Axes>"
      ]
     },
     "metadata": {
      "needs_background": "light"
     },
     "output_type": "display_data"
    }
   ],
   "source": [
    "tobin_stock['TobinQ'].sort_values(ascending=False)[:10].plot(kind='bar',figsize=(18,10))"
   ]
  },
  {
   "cell_type": "code",
   "execution_count": 187,
   "id": "cb81fc2d-c03e-42d9-8309-a829c63a2664",
   "metadata": {},
   "outputs": [
    {
     "data": {
      "text/plain": [
       "<AxesSubplot:xlabel='Ticker'>"
      ]
     },
     "execution_count": 187,
     "metadata": {},
     "output_type": "execute_result"
    },
    {
     "data": {
      "image/png": "[encoded data removed]",
      "text/plain": [
       "<Figure size 1296x720 with 1 Axes>"
      ]
     },
     "metadata": {
      "needs_background": "light"
     },
     "output_type": "display_data"
    }
   ],
   "source": [
    "tobin_stock['TobinQ'].sort_values(ascending=True)[:10].plot(kind='bar',figsize=(18,10))"
   ]
  },
  {
   "cell_type": "code",
   "execution_count": 186,
   "id": "efba8141-3ebe-4880-94e4-119a34effee4",
   "metadata": {},
   "outputs": [
    {
     "data": {
      "text/plain": [
       "<AxesSubplot:xlabel='Ticker'>"
      ]
     },
     "execution_count": 186,
     "metadata": {},
     "output_type": "execute_result"
    },
    {
     "data": {
      "image/png": "[encoded data removed]",
      "text/plain": [
       "<Figure size 1296x720 with 1 Axes>"
      ]
     },
     "metadata": {
      "needs_background": "light"
     },
     "output_type": "display_data"
    }
   ],
   "source": [
    "tobin_eq['TobinQ'].sort_values(ascending=False)[:10].plot(kind='bar',figsize=(18,10))"
   ]
  },
  {
   "cell_type": "code",
   "execution_count": 188,
   "id": "a67a7489-97ad-4c38-a205-8396384acae3",
   "metadata": {},
   "outputs": [
    {
     "data": {
      "text/plain": [
       "<AxesSubplot:xlabel='Ticker'>"
      ]
     },
     "execution_count": 188,
     "metadata": {},
     "output_type": "execute_result"
    },
    {
     "data": {
      "image/png": "[encoded data removed]",
      "text/plain": [
       "<Figure size 1296x720 with 1 Axes>"
      ]
     },
     "metadata": {
      "needs_background": "light"
     },
     "output_type": "display_data"
    }
   ],
   "source": [
    "tobin_eq['TobinQ'].sort_values(ascending=True)[:10].plot(kind='bar',figsize=(18,10))"
   ]
  },
  {
   "cell_type": "code",
   "execution_count": 195,
   "id": "ef867a22-a2dc-48c7-96f9-b96fcc31cd4e",
   "metadata": {},
   "outputs": [
    {
     "data": {
      "text/html": [
       "<div>\n",
       "<style scoped>\n",
       "    .dataframe tbody tr th:only-of-type {\n",
       "        vertical-align: middle;\n",
       "    }\n",
       "\n",
       "    .dataframe tbody tr th {\n",
       "        vertical-align: top;\n",
       "    }\n",
       "\n",
       "    .dataframe thead th {\n",
       "        text-align: right;\n",
       "    }\n",
       "</style>\n",
       "<table border=\"1\" class=\"dataframe\">\n",
       "  <thead>\n",
       "    <tr style=\"text-align: right;\">\n",
       "      <th></th>\n",
       "      <th>Asset type</th>\n",
       "      <th>2021-3</th>\n",
       "      <th>2021-2</th>\n",
       "      <th>2021-1</th>\n",
       "      <th>2020-4</th>\n",
       "      <th>cap</th>\n",
       "      <th>TobinQ</th>\n",
       "    </tr>\n",
       "    <tr>\n",
       "      <th>Ticker</th>\n",
       "      <th></th>\n",
       "      <th></th>\n",
       "      <th></th>\n",
       "      <th></th>\n",
       "      <th></th>\n",
       "      <th></th>\n",
       "      <th></th>\n",
       "    </tr>\n",
       "  </thead>\n",
       "  <tbody>\n",
       "    <tr>\n",
       "      <th>MTCH</th>\n",
       "      <td>Total Stockholder Equity</td>\n",
       "      <td>-68352000.000</td>\n",
       "      <td>-142245000.000</td>\n",
       "      <td>-1214591000.000</td>\n",
       "      <td>-1177667000.000</td>\n",
       "      <td>30918543360.000</td>\n",
       "      <td>-452.343</td>\n",
       "    </tr>\n",
       "    <tr>\n",
       "      <th>ORLY</th>\n",
       "      <td>Total Stockholder Equity</td>\n",
       "      <td>-140853000.000</td>\n",
       "      <td>217694000.000</td>\n",
       "      <td>-6977000.000</td>\n",
       "      <td>140258000.000</td>\n",
       "      <td>43359350784.000</td>\n",
       "      <td>-307.834</td>\n",
       "    </tr>\n",
       "    <tr>\n",
       "      <th>WYNN</th>\n",
       "      <td>Total Stockholder Equity</td>\n",
       "      <td>-53238000.000</td>\n",
       "      <td>102752000.000</td>\n",
       "      <td>233683000.000</td>\n",
       "      <td>-351997000.000</td>\n",
       "      <td>9730307072.000</td>\n",
       "      <td>-182.770</td>\n",
       "    </tr>\n",
       "    <tr>\n",
       "      <th>MSCI</th>\n",
       "      <td>Total Stockholder Equity</td>\n",
       "      <td>-280025000.000</td>\n",
       "      <td>-367807000.000</td>\n",
       "      <td>-481582000.000</td>\n",
       "      <td>-443234000.000</td>\n",
       "      <td>41893642240.000</td>\n",
       "      <td>-149.607</td>\n",
       "    </tr>\n",
       "    <tr>\n",
       "      <th>MSI</th>\n",
       "      <td>Total Stockholder Equity</td>\n",
       "      <td>-263000000.000</td>\n",
       "      <td>-358000000.000</td>\n",
       "      <td>-496000000.000</td>\n",
       "      <td>-558000000.000</td>\n",
       "      <td>38359883776.000</td>\n",
       "      <td>-145.855</td>\n",
       "    </tr>\n",
       "    <tr>\n",
       "      <th>...</th>\n",
       "      <td>...</td>\n",
       "      <td>...</td>\n",
       "      <td>...</td>\n",
       "      <td>...</td>\n",
       "      <td>...</td>\n",
       "      <td>...</td>\n",
       "      <td>...</td>\n",
       "    </tr>\n",
       "    <tr>\n",
       "      <th>ABC</th>\n",
       "      <td>Total Stockholder Equity</td>\n",
       "      <td>223354000.000</td>\n",
       "      <td>37962000.000</td>\n",
       "      <td>-281756000.000</td>\n",
       "      <td>-697222000.000</td>\n",
       "      <td>28472594432.000</td>\n",
       "      <td>127.477</td>\n",
       "    </tr>\n",
       "    <tr>\n",
       "      <th>MTD</th>\n",
       "      <td>Total Stockholder Equity</td>\n",
       "      <td>159171000.000</td>\n",
       "      <td>191424000.000</td>\n",
       "      <td>202643000.000</td>\n",
       "      <td>282675000.000</td>\n",
       "      <td>32881733632.000</td>\n",
       "      <td>206.581</td>\n",
       "    </tr>\n",
       "    <tr>\n",
       "      <th>HD</th>\n",
       "      <td>Total Stockholder Equity</td>\n",
       "      <td>1035000000.000</td>\n",
       "      <td>2069000000.000</td>\n",
       "      <td>1748000000.000</td>\n",
       "      <td>3299000000.000</td>\n",
       "      <td>382755733504.000</td>\n",
       "      <td>369.812</td>\n",
       "    </tr>\n",
       "    <tr>\n",
       "      <th>WTW</th>\n",
       "      <td>Total Stockholder Equity</td>\n",
       "      <td>11393000000.000</td>\n",
       "      <td>11670000000.000</td>\n",
       "      <td>11526000000.000</td>\n",
       "      <td>10820000000.000</td>\n",
       "      <td>NaN</td>\n",
       "      <td>NaN</td>\n",
       "    </tr>\n",
       "    <tr>\n",
       "      <th>APA</th>\n",
       "      <td>Total Stockholder Equity</td>\n",
       "      <td>-1095000000.000</td>\n",
       "      <td>-964000000.000</td>\n",
       "      <td>-1258000000.000</td>\n",
       "      <td>-1639000000.000</td>\n",
       "      <td>NaN</td>\n",
       "      <td>NaN</td>\n",
       "    </tr>\n",
       "  </tbody>\n",
       "</table>\n",
       "<p>497 rows × 7 columns</p>\n",
       "</div>"
      ],
      "text/plain": [
       "                      Asset type          2021-3          2021-2  \\\n",
       "Ticker                                                             \n",
       "MTCH    Total Stockholder Equity   -68352000.000  -142245000.000   \n",
       "ORLY    Total Stockholder Equity  -140853000.000   217694000.000   \n",
       "WYNN    Total Stockholder Equity   -53238000.000   102752000.000   \n",
       "MSCI    Total Stockholder Equity  -280025000.000  -367807000.000   \n",
       "MSI     Total Stockholder Equity  -263000000.000  -358000000.000   \n",
       "...                          ...             ...             ...   \n",
       "ABC     Total Stockholder Equity   223354000.000    37962000.000   \n",
       "MTD     Total Stockholder Equity   159171000.000   191424000.000   \n",
       "HD      Total Stockholder Equity  1035000000.000  2069000000.000   \n",
       "WTW     Total Stockholder Equity 11393000000.000 11670000000.000   \n",
       "APA     Total Stockholder Equity -1095000000.000  -964000000.000   \n",
       "\n",
       "                2021-1          2020-4              cap   TobinQ  \n",
       "Ticker                                                            \n",
       "MTCH   -1214591000.000 -1177667000.000  30918543360.000 -452.343  \n",
       "ORLY      -6977000.000   140258000.000  43359350784.000 -307.834  \n",
       "WYNN     233683000.000  -351997000.000   9730307072.000 -182.770  \n",
       "MSCI    -481582000.000  -443234000.000  41893642240.000 -149.607  \n",
       "MSI     -496000000.000  -558000000.000  38359883776.000 -145.855  \n",
       "...                ...             ...              ...      ...  \n",
       "ABC     -281756000.000  -697222000.000  28472594432.000  127.477  \n",
       "MTD      202643000.000   282675000.000  32881733632.000  206.581  \n",
       "HD      1748000000.000  3299000000.000 382755733504.000  369.812  \n",
       "WTW    11526000000.000 10820000000.000              NaN      NaN  \n",
       "APA    -1258000000.000 -1639000000.000              NaN      NaN  \n",
       "\n",
       "[497 rows x 7 columns]"
      ]
     },
     "execution_count": 195,
     "metadata": {},
     "output_type": "execute_result"
    }
   ],
   "source": [
    "tobin_eq.sort_values(by='TobinQ')"
   ]
  },
  {
   "cell_type": "code",
   "execution_count": 201,
   "id": "b9528c68-17ca-4670-b7b6-73c7457d5777",
   "metadata": {},
   "outputs": [
    {
     "data": {
      "text/plain": [
       "<AxesSubplot:ylabel='Frequency'>"
      ]
     },
     "execution_count": 201,
     "metadata": {},
     "output_type": "execute_result"
    },
    {
     "data": {
      "image/png": "[encoded data removed]",
      "text/plain": [
       "<Figure size 1296x720 with 1 Axes>"
      ]
     },
     "metadata": {
      "needs_background": "light"
     },
     "output_type": "display_data"
    }
   ],
   "source": [
    "tobin_eq[tobin_eq['TobinQ']>0]['TobinQ'].sort_values(ascending=True).plot(kind='hist',figsize=(18,10))"
   ]
  },
  {
   "cell_type": "code",
   "execution_count": 192,
   "id": "5a473369-12e5-4631-b635-fec966989955",
   "metadata": {},
   "outputs": [
    {
     "data": {
      "text/plain": [
       "<AxesSubplot:ylabel='Frequency'>"
      ]
     },
     "execution_count": 192,
     "metadata": {},
     "output_type": "execute_result"
    },
    {
     "data": {
      "image/png": "[encoded data removed]",
      "text/plain": [
       "<Figure size 1296x720 with 1 Axes>"
      ]
     },
     "metadata": {
      "needs_background": "light"
     },
     "output_type": "display_data"
    }
   ],
   "source": [
    "tobin_stock['TobinQ'].sort_values(ascending=True).plot(kind='hist',figsize=(18,10))"
   ]
  },
  {
   "cell_type": "code",
   "execution_count": 202,
   "id": "564b7bfa-69af-45e3-946e-720905acb7ef",
   "metadata": {},
   "outputs": [
    {
     "data": {
      "text/plain": [
       "4.738456869960177"
      ]
     },
     "execution_count": 202,
     "metadata": {},
     "output_type": "execute_result"
    }
   ],
   "source": [
    "tobin_eq['cap'].sum()/tobin_eq['2021-3'].sum()"
   ]
  },
  {
   "cell_type": "code",
   "execution_count": 204,
   "id": "d5c489f7-2631-4268-90bd-db8da02f7608",
   "metadata": {},
   "outputs": [
    {
     "data": {
      "text/plain": [
       "36.46498645713531"
      ]
     },
     "execution_count": 204,
     "metadata": {},
     "output_type": "execute_result"
    }
   ],
   "source": [
    "tobin_stock['cap'].sum()/tobin_stock['2021-3'].sum()"
   ]
  },
  {
   "cell_type": "code",
   "execution_count": 208,
   "id": "1b4210c5-32e4-415d-bbe1-cc24c3824229",
   "metadata": {},
   "outputs": [
    {
     "data": {
      "text/plain": [
       "False    495\n",
       "True       2\n",
       "Name: cap, dtype: int64"
      ]
     },
     "execution_count": 208,
     "metadata": {},
     "output_type": "execute_result"
    }
   ],
   "source": [
    "tobin_eq['cap'].isnull().value_counts()"
   ]
  },
  {
   "cell_type": "code",
   "execution_count": null,
   "id": "e4c4fa6f-5bcf-4b35-81f8-1deff1c9a8cb",
   "metadata": {},
   "outputs": [],
   "source": []
  }
 ],
 "metadata": {
  "kernelspec": {
   "display_name": "Python 3 (ipykernel)",
   "language": "python",
   "name": "python3"
  },
  "language_info": {
   "codemirror_mode": {
    "name": "ipython",
    "version": 3
   },
   "file_extension": ".py",
   "mimetype": "text/x-python",
   "name": "python",
   "nbconvert_exporter": "python",
   "pygments_lexer": "ipython3",
   "version": "3.9.7"
  }
 },
 "nbformat": 4,
 "nbformat_minor": 5
}
